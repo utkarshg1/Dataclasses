{
 "cells": [
  {
   "cell_type": "code",
   "execution_count": 1,
   "metadata": {},
   "outputs": [],
   "source": [
    "from pydantic import BaseModel, EmailStr, Field\n",
    "from datetime import date\n",
    "from decimal import Decimal"
   ]
  },
  {
   "cell_type": "code",
   "execution_count": 2,
   "metadata": {},
   "outputs": [],
   "source": [
    "class User(BaseModel):\n",
    "    username:str = Field(min_length=3, max_length=50)\n",
    "    dob: date\n",
    "    email: EmailStr \n",
    "    salary: Decimal = Field(decimal_places=2, gt=0.00)\n",
    "\n",
    "    class Config:\n",
    "        frozen = True\n",
    "\n",
    "    def show_info(self) -> None :\n",
    "        print(f\"User Information:\\n\"\n",
    "              f\"Username: {self.username}\\n\"\n",
    "              f\"Date of Birth: {self.dob}\\n\"\n",
    "              f\"Email: {self.email}\\n\"\n",
    "              f\"Salary: INR {self.salary}\")"
   ]
  },
  {
   "cell_type": "code",
   "execution_count": 3,
   "metadata": {},
   "outputs": [
    {
     "name": "stdout",
     "output_type": "stream",
     "text": [
      "User Information:\n",
      "Username: Utkarsh Gaikwad\n",
      "Date of Birth: 1990-05-15\n",
      "Email: utkarsh@example.com\n",
      "Salary: INR 24000.00\n"
     ]
    }
   ],
   "source": [
    "# Example usage\n",
    "try:\n",
    "    user = User(\n",
    "        username=\"Utkarsh Gaikwad\",\n",
    "        dob=\"1990-05-15\",\n",
    "        email=\"utkarsh@example.com\",\n",
    "        salary=Decimal(\"24000.00\")\n",
    "    )\n",
    "    user.show_info()\n",
    "except Exception as e:\n",
    "    print(f\"Validation Error: {e}\")"
   ]
  },
  {
   "cell_type": "code",
   "execution_count": 4,
   "metadata": {},
   "outputs": [
    {
     "data": {
      "text/plain": [
       "User(username='Utkarsh Gaikwad', dob=datetime.date(1990, 5, 15), email='utkarsh@example.com', salary=Decimal('24000.00'))"
      ]
     },
     "execution_count": 4,
     "metadata": {},
     "output_type": "execute_result"
    }
   ],
   "source": [
    "user"
   ]
  },
  {
   "cell_type": "code",
   "execution_count": 5,
   "metadata": {},
   "outputs": [
    {
     "data": {
      "text/plain": [
       "Decimal('24000.00')"
      ]
     },
     "execution_count": 5,
     "metadata": {},
     "output_type": "execute_result"
    }
   ],
   "source": [
    "user.salary"
   ]
  },
  {
   "cell_type": "code",
   "execution_count": 6,
   "metadata": {},
   "outputs": [
    {
     "data": {
      "text/plain": [
       "decimal.Decimal"
      ]
     },
     "execution_count": 6,
     "metadata": {},
     "output_type": "execute_result"
    }
   ],
   "source": [
    "type(user.salary)"
   ]
  },
  {
   "cell_type": "code",
   "execution_count": 7,
   "metadata": {},
   "outputs": [
    {
     "name": "stdout",
     "output_type": "stream",
     "text": [
      "Exception occured : 4 validation errors for User\n",
      "username\n",
      "  String should have at least 3 characters [type=string_too_short, input_value='Me', input_type=str]\n",
      "    For further information visit https://errors.pydantic.dev/2.8/v/string_too_short\n",
      "dob\n",
      "  Datetimes provided to dates should have zero time - e.g. be exact dates [type=date_from_datetime_inexact, input_value=2345, input_type=int]\n",
      "    For further information visit https://errors.pydantic.dev/2.8/v/date_from_datetime_inexact\n",
      "email\n",
      "  value is not a valid email address: An email address must have an @-sign. [type=value_error, input_value='gmail', input_type=str]\n",
      "salary\n",
      "  Input should be greater than 0.0 [type=greater_than, input_value=Decimal('-100.00'), input_type=Decimal]\n",
      "    For further information visit https://errors.pydantic.dev/2.8/v/greater_than\n"
     ]
    }
   ],
   "source": [
    "try:\n",
    "    user2 = User(\n",
    "        username= \"Me\",\n",
    "        dob = 2345,\n",
    "        email = \"gmail\",\n",
    "        salary=Decimal(\"-100.00\")\n",
    "    )\n",
    "    user2.show_info()\n",
    "except Exception as e:\n",
    "    print(f\"Exception occured : {e}\")"
   ]
  },
  {
   "cell_type": "code",
   "execution_count": 8,
   "metadata": {},
   "outputs": [
    {
     "name": "stdout",
     "output_type": "stream",
     "text": [
      "User Information:\n",
      "Username: Aditi More\n",
      "Date of Birth: 1997-06-18\n",
      "Email: aditi@example.com\n",
      "Salary: INR 20000.00\n",
      "Validation Error: 1 validation error for User\n",
      "username\n",
      "  Instance is frozen [type=frozen_instance, input_value='Priya', input_type=str]\n",
      "    For further information visit https://errors.pydantic.dev/2.8/v/frozen_instance\n"
     ]
    }
   ],
   "source": [
    "try:\n",
    "    user3 = User(\n",
    "        username=\"Aditi More\",\n",
    "        dob=\"1997-06-18\",\n",
    "        email=\"aditi@example.com\",\n",
    "        salary=Decimal(\"20000.00\")\n",
    "    )\n",
    "    user3.show_info()\n",
    "    user3.username = \"Priya\"\n",
    "except Exception as e:\n",
    "    print(f\"Validation Error: {e}\")"
   ]
  },
  {
   "cell_type": "code",
   "execution_count": 9,
   "metadata": {},
   "outputs": [
    {
     "data": {
      "text/plain": [
       "User(username='Aditi More', dob=datetime.date(1997, 6, 18), email='aditi@example.com', salary=Decimal('20000.00'))"
      ]
     },
     "execution_count": 9,
     "metadata": {},
     "output_type": "execute_result"
    }
   ],
   "source": [
    "user3"
   ]
  }
 ],
 "metadata": {
  "kernelspec": {
   "display_name": "venv",
   "language": "python",
   "name": "python3"
  },
  "language_info": {
   "codemirror_mode": {
    "name": "ipython",
    "version": 3
   },
   "file_extension": ".py",
   "mimetype": "text/x-python",
   "name": "python",
   "nbconvert_exporter": "python",
   "pygments_lexer": "ipython3",
   "version": "3.12.5"
  }
 },
 "nbformat": 4,
 "nbformat_minor": 2
}
