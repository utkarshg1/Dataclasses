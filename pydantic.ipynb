{
 "cells": [
  {
   "cell_type": "code",
   "execution_count": 1,
   "metadata": {},
   "outputs": [],
   "source": [
    "from pydantic import BaseModel, EmailStr, Field\n",
    "from datetime import date\n",
    "from decimal import Decimal"
   ]
  },
  {
   "cell_type": "code",
   "execution_count": 2,
   "metadata": {},
   "outputs": [],
   "source": [
    "class User(BaseModel):\n",
    "    username:str = Field(min_length=3, max_length=50)\n",
    "    dob: date\n",
    "    email: EmailStr\n",
    "    salary: Decimal = Field(decimal_places=2, gt=2)\n",
    "\n",
    "    def show_info(self) -> None :\n",
    "        print(f\"User Information:\\n\"\n",
    "              f\"Username: {self.username}\\n\"\n",
    "              f\"Date of Birth: {self.dob}\\n\"\n",
    "              f\"Email: {self.email}\\n\"\n",
    "              f\"Salary: INR {self.salary}\")"
   ]
  },
  {
   "cell_type": "code",
   "execution_count": 3,
   "metadata": {},
   "outputs": [
    {
     "name": "stdout",
     "output_type": "stream",
     "text": [
      "User Information:\n",
      "Username: Utkarsh Gaikwad\n",
      "Date of Birth: 1990-05-15\n",
      "Email: utkarsh@example.com\n",
      "Salary: INR 70000.00\n"
     ]
    }
   ],
   "source": [
    "# Example usage\n",
    "try:\n",
    "    user = User(\n",
    "        username=\"Utkarsh Gaikwad\",\n",
    "        dob=\"1990-05-15\",\n",
    "        email=\"utkarsh@example.com\",\n",
    "        salary=Decimal(\"70000.00\")\n",
    "    )\n",
    "    user.show_info()\n",
    "except Exception as e:\n",
    "    print(f\"Validation Error: {e}\")"
   ]
  },
  {
   "cell_type": "code",
   "execution_count": 4,
   "metadata": {},
   "outputs": [
    {
     "name": "stdout",
     "output_type": "stream",
     "text": [
      "Exception occured : 4 validation errors for User\n",
      "username\n",
      "  String should have at least 3 characters [type=string_too_short, input_value='Me', input_type=str]\n",
      "    For further information visit https://errors.pydantic.dev/2.8/v/string_too_short\n",
      "dob\n",
      "  Datetimes provided to dates should have zero time - e.g. be exact dates [type=date_from_datetime_inexact, input_value=2345, input_type=int]\n",
      "    For further information visit https://errors.pydantic.dev/2.8/v/date_from_datetime_inexact\n",
      "email\n",
      "  value is not a valid email address: An email address must have an @-sign. [type=value_error, input_value='gmail', input_type=str]\n",
      "salary\n",
      "  Input should be greater than 2 [type=greater_than, input_value=Decimal('-100.00'), input_type=Decimal]\n",
      "    For further information visit https://errors.pydantic.dev/2.8/v/greater_than\n"
     ]
    }
   ],
   "source": [
    "try:\n",
    "    user2 = User(\n",
    "        username= \"Me\",\n",
    "        dob = 2345,\n",
    "        email = \"gmail\",\n",
    "        salary=Decimal(\"-100.00\")\n",
    "    )\n",
    "    user2.show_info()\n",
    "except Exception as e:\n",
    "    print(f\"Exception occured : {e}\")"
   ]
  }
 ],
 "metadata": {
  "kernelspec": {
   "display_name": "venv",
   "language": "python",
   "name": "python3"
  },
  "language_info": {
   "codemirror_mode": {
    "name": "ipython",
    "version": 3
   },
   "file_extension": ".py",
   "mimetype": "text/x-python",
   "name": "python",
   "nbconvert_exporter": "python",
   "pygments_lexer": "ipython3",
   "version": "3.12.5"
  }
 },
 "nbformat": 4,
 "nbformat_minor": 2
}
